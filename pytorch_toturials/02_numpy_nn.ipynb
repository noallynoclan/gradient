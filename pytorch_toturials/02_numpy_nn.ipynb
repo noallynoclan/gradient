{
 "cells": [
  {
   "cell_type": "markdown",
   "metadata": {},
   "source": [
    "https://towardsdatascience.com/lets-code-a-neural-network-in-plain-numpy-ae7e74410795"
   ]
  },
  {
   "cell_type": "code",
   "execution_count": 109,
   "metadata": {},
   "outputs": [],
   "source": [
    "import numpy as np\n",
    "from pprint import pprint"
   ]
  },
  {
   "cell_type": "code",
   "execution_count": 112,
   "metadata": {},
   "outputs": [
    {
     "data": {
      "text/plain": [
       "Layer(2, 1, <__main__.Sigmoid object at 0x7f7ee80fd518>)"
      ]
     },
     "execution_count": 112,
     "metadata": {},
     "output_type": "execute_result"
    }
   ],
   "source": [
    "class Sigmoid:\n",
    "    def __call__(self, Z):\n",
    "        return 1 / (1 + np.exp(-Z))\n",
    "    \n",
    "    def grad(self, dA, Z):\n",
    "        sig = self(Z)\n",
    "        return dA * sig * (1 - sig)\n",
    "    \n",
    "class Relu:\n",
    "    def __call__(self, Z):\n",
    "        return np.maximum(0, Z)\n",
    "    \n",
    "    def grad(self, dA, Z):\n",
    "        dZ = np.array(dA, copy=True)\n",
    "        dZ[Z <= 0] = 0\n",
    "        return dZ\n",
    "    \n",
    "ACT = {'relu': Relu(), 'sigmoid': Sigmoid()}\n",
    "\n",
    "class Layer:\n",
    "    def __init__(self, in_size, out_size, act='relu'):\n",
    "        self.w = np.random.normal(scale=0.1, size=(out_size, in_size))\n",
    "        self.b = np.random.normal(scale=0.1, size=(out_size, 1))\n",
    "        self.act = ACT[act]\n",
    "        \n",
    "    def __repr__(self):\n",
    "        return f'Layer{*self.w.T.shape, self.act}'\n",
    "    \n",
    "    def forward(self, A):\n",
    "        Z = self.w @ A + self.b\n",
    "        return self.act(Z), Z\n",
    "         \n",
    "class Model:\n",
    "    def __init__(self, sizes, seed=42):\n",
    "        np.random.seed(seed)\n",
    "        self.layers = []\n",
    "        for i in range(len(sizes) - 1):\n",
    "            in_size, out_size = sizes[i: i + 2]\n",
    "            self.layers.append(Layer(in_size, out_size))\n",
    "        self.layers.append(Layer(sizes[-1], 1, 'sigmoid'))\n",
    "        \n",
    "    def __repr__(self):\n",
    "        return '\\n'.join([str(l) for l in self.layers])\n",
    "    \n",
    "    def forward(self, X):\n",
    "        memory = {}\n",
    "        for i, l in enumerate(self.layers):\n",
    "            X, _ = l.forward(X)\n",
    "        return X\n",
    "            \n",
    "        \n",
    "        \n",
    "m = Model([2])\n",
    "m"
   ]
  },
  {
   "cell_type": "code",
   "execution_count": 95,
   "metadata": {},
   "outputs": [
    {
     "data": {
      "text/plain": [
       "array([[0.51058178]])"
      ]
     },
     "execution_count": 95,
     "metadata": {},
     "output_type": "execute_result"
    }
   ],
   "source": [
    "X = np.array([[1], [2]])\n",
    "m.forward(X)"
   ]
  },
  {
   "cell_type": "code",
   "execution_count": 100,
   "metadata": {},
   "outputs": [],
   "source": []
  },
  {
   "cell_type": "code",
   "execution_count": 111,
   "metadata": {},
   "outputs": [
    {
     "name": "stdout",
     "output_type": "stream",
     "text": [
      "{'W1': array([[ 0.04967142, -0.01382643],\n",
      "       [ 0.06476885,  0.15230299]]),\n",
      " 'W2': array([[0.15792128, 0.07674347]]),\n",
      " 'b1': array([[-0.02341534],\n",
      "       [-0.0234137 ]]),\n",
      " 'b2': array([[-0.04694744]])}\n",
      "(array([[0.49490088]]),\n",
      " {'A0': array([[1],\n",
      "       [2]]),\n",
      "  'A1': array([[0.        ],\n",
      "       [0.34596113]]),\n",
      "  'Z1': array([[-0.00139678],\n",
      "       [ 0.34596113]]),\n",
      "  'Z2': array([[-0.02039718]])})\n"
     ]
    }
   ],
   "source": [
    "def init_layers(nn_architecture, seed = 42):\n",
    "    np.random.seed(seed)\n",
    "    number_of_layers = len(nn_architecture)\n",
    "    params_values = {}\n",
    "\n",
    "    for idx, layer in enumerate(nn_architecture):\n",
    "        layer_idx = idx + 1\n",
    "        layer_input_size = layer[\"input_dim\"]\n",
    "        layer_output_size = layer[\"output_dim\"]\n",
    "        \n",
    "        params_values['W' + str(layer_idx)] = np.random.randn(\n",
    "            layer_output_size, layer_input_size) * 0.1\n",
    "        params_values['b' + str(layer_idx)] = np.random.randn(\n",
    "            layer_output_size, 1) * 0.1\n",
    "        \n",
    "    return params_values\n",
    "\n",
    "def sigmoid(Z):\n",
    "    return 1/(1+np.exp(-Z))\n",
    "\n",
    "def relu(Z):\n",
    "    return np.maximum(0,Z)\n",
    "\n",
    "def sigmoid_backward(dA, Z):\n",
    "    sig = sigmoid(Z)\n",
    "    return dA * sig * (1 - sig)\n",
    "\n",
    "def relu_backward(dA, Z):\n",
    "    dZ = np.array(dA, copy = True)\n",
    "    dZ[Z <= 0] = 0;\n",
    "    return dZ;\n",
    "\n",
    "def single_layer_forward_propagation(A_prev, W_curr, b_curr, activation=\"relu\"):\n",
    "    Z_curr = np.dot(W_curr, A_prev) + b_curr\n",
    "    \n",
    "    if activation is \"relu\":\n",
    "        activation_func = relu\n",
    "    elif activation is \"sigmoid\":\n",
    "        activation_func = sigmoid\n",
    "    else:\n",
    "        raise Exception('Non-supported activation function')\n",
    "        \n",
    "    return activation_func(Z_curr), Z_curr\n",
    "\n",
    "def full_forward_propagation(X, params_values, nn_architecture):\n",
    "    memory = {}\n",
    "    A_curr = X\n",
    "    \n",
    "    for idx, layer in enumerate(nn_architecture):\n",
    "        layer_idx = idx + 1\n",
    "        A_prev = A_curr\n",
    "        \n",
    "        activ_function_curr = layer[\"activation\"]\n",
    "        W_curr = params_values[\"W\" + str(layer_idx)]\n",
    "        b_curr = params_values[\"b\" + str(layer_idx)]\n",
    "        A_curr, Z_curr = single_layer_forward_propagation(A_prev, W_curr, b_curr, activ_function_curr)\n",
    "        \n",
    "        memory[\"A\" + str(idx)] = A_prev\n",
    "        memory[\"Z\" + str(layer_idx)] = Z_curr\n",
    "       \n",
    "    return A_curr, memory\n",
    "\n",
    "nn_architecture = [\n",
    "    {\"input_dim\": 2, \"output_dim\": 2, \"activation\": \"relu\"},\n",
    "    {\"input_dim\": 2, \"output_dim\": 1, \"activation\": \"sigmoid\"},\n",
    "]\n",
    "param_values = init_layers(nn_architecture)\n",
    "pprint(param_values)\n",
    "\n",
    "X = np.array([[1], [2]])\n",
    "pprint(full_forward_propagation(X, param_values, nn_architecture))\n",
    "\n"
   ]
  },
  {
   "cell_type": "code",
   "execution_count": 118,
   "metadata": {},
   "outputs": [],
   "source": [
    "m = Model([2, 2])"
   ]
  },
  {
   "cell_type": "code",
   "execution_count": 122,
   "metadata": {},
   "outputs": [
    {
     "data": {
      "text/plain": [
       "array([[0.49490088]])"
      ]
     },
     "execution_count": 122,
     "metadata": {},
     "output_type": "execute_result"
    }
   ],
   "source": [
    "m.forward(X)"
   ]
  },
  {
   "cell_type": "code",
   "execution_count": null,
   "metadata": {},
   "outputs": [],
   "source": []
  }
 ],
 "metadata": {
  "kernelspec": {
   "display_name": "Python 3",
   "language": "python",
   "name": "python3"
  },
  "language_info": {
   "codemirror_mode": {
    "name": "ipython",
    "version": 3
   },
   "file_extension": ".py",
   "mimetype": "text/x-python",
   "name": "python",
   "nbconvert_exporter": "python",
   "pygments_lexer": "ipython3",
   "version": "3.6.8"
  }
 },
 "nbformat": 4,
 "nbformat_minor": 4
}
