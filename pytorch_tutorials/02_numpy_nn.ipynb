{
 "cells": [
  {
   "cell_type": "markdown",
   "metadata": {},
   "source": [
    "https://towardsdatascience.com/lets-code-a-neural-network-in-plain-numpy-ae7e74410795"
   ]
  },
  {
   "cell_type": "code",
   "execution_count": 1,
   "metadata": {},
   "outputs": [],
   "source": [
    "import numpy as np\n",
    "from pprint import pprint"
   ]
  },
  {
   "cell_type": "code",
   "execution_count": 63,
   "metadata": {},
   "outputs": [
    {
     "name": "stdout",
     "output_type": "stream",
     "text": [
      "7063.5814226954535\n",
      "4947.771130422629\n",
      "3519.6786823196294\n",
      "2555.058010474672\n",
      "1902.792550472873\n"
     ]
    }
   ],
   "source": [
    "class Sigmoid:\n",
    "    def __call__(self, Z):\n",
    "        return 1 / (1 + np.exp(-Z))\n",
    "    \n",
    "    def grad(self, dA, Z):\n",
    "        sig = self(Z)\n",
    "        return dA * sig * (1 - sig)\n",
    "    \n",
    "class Relu:\n",
    "    def __call__(self, Z):\n",
    "        return np.maximum(0, Z)\n",
    "    \n",
    "    def grad(self, dA, Z):\n",
    "        dZ = np.array(dA, copy=True)\n",
    "        dZ[Z <= 0] = 0\n",
    "        return dZ\n",
    "    \n",
    "class LogLoss():\n",
    "    def __call__(self, Y_hat, Y):\n",
    "        m = Y_hat.shape[1]\n",
    "        cost = Y @ np.log(Y_hat).T + (1 - Y) @ np.log(1 - Y_hat).T\n",
    "        return np.squeeze(-cost / m)\n",
    "    \n",
    "    def grad(self, Y_hat, Y):\n",
    "        return -(np.divide(Y, Y_hat) - np.divide(1 - Y, 1 - Y_hat))\n",
    "    \n",
    "class MSE():\n",
    "    def __call__(self, Y_hat, Y):\n",
    "        cost = (Y_hat - Y) ** 2\n",
    "        return np.mean(cost)\n",
    "    \n",
    "    def grad(self, Y_hat, Y):\n",
    "        return Y_hat - Y\n",
    "    \n",
    "ACT = {'relu': Relu(), 'sigmoid': Sigmoid()}\n",
    "LOSS = {'logloss': LogLoss(), 'mse': MSE()}\n",
    "\n",
    "class Layer:\n",
    "    def __init__(self, in_size, out_size, act='relu'):\n",
    "        self.W = np.random.normal(scale=0.1, size=(out_size, in_size))\n",
    "        self.b = np.random.normal(scale=0.1, size=(out_size, 1))\n",
    "        self.act = ACT[act]\n",
    "    \n",
    "    def forward(self, A):\n",
    "        Z = self.W @ A + self.b\n",
    "        return self.act(Z), Z\n",
    "    \n",
    "    def backward(self, dA, Z, A):\n",
    "        m = A.shape[1]\n",
    "        # print('dA', dA.shape)\n",
    "        dZ = self.act.grad(dA, Z)\n",
    "        dW = (dZ @ A.T) / m\n",
    "        db = np.sum(dZ, axis=1, keepdims=True) / m\n",
    "        dA = self.W.T @ dZ\n",
    "#         pprint({\n",
    "#             'Z': Z.shape,\n",
    "#             'A': A.shape,\n",
    "#             'dZ': dZ.shape,\n",
    "#             'W': self.W.shape,\n",
    "#             'dW': dW.shape,\n",
    "#             'db': db.shape,\n",
    "#             'dA': dA.shape\n",
    "#         })\n",
    "        \n",
    "        return dA, dW, db\n",
    "        \n",
    "class Model:\n",
    "    def __init__(self, layers, loss='mse', seed=42):\n",
    "        np.random.seed(42)\n",
    "        num_layers = len(layers) - 1\n",
    "        self.layers = [[]] * num_layers\n",
    "        self.A = [[]] * num_layers\n",
    "        self.Z = [[]] * num_layers\n",
    "        self.dW = [[]] * num_layers\n",
    "        self.db = [[]] * num_layers\n",
    "        self.loss = LOSS[loss]\n",
    "        for i in range(num_layers):\n",
    "            in_size, out_size = layers[i: i + 2]\n",
    "            self.layers[i] = Layer(in_size, out_size)\n",
    "        # self.layers[-1] = Layer(sizes[-1], 1, 'sigmoid')\n",
    "        \n",
    "    def forward(self, X):\n",
    "        for i, l in enumerate(self.layers):\n",
    "            self.A[i] = X\n",
    "            X, self.Z[i] = l.forward(X)\n",
    "            # pprint({'X': X})\n",
    "        return X\n",
    "    \n",
    "    def backward(self, Y_hat, Y):\n",
    "        dA = self.loss.grad(Y_hat, Y)\n",
    "        for i, l in reversed(list(enumerate(self.layers))):\n",
    "            dA, self.dW[i], self.db[i] = l.backward(dA, self.Z[i], self.A[i])\n",
    "        # pprint({'dW': self.dW})\n",
    "        \n",
    "    def update(self, learning_rate):\n",
    "        for i, l in enumerate(self.layers):\n",
    "            l.W -= learning_rate * self.dW[i]\n",
    "            l.b -= learning_rate * self.db[i]\n",
    "            \n",
    "    def train(self, X, Y, epochs, learning_rate):\n",
    "        for i in range(epochs):\n",
    "            Y_hat = self.forward(X)\n",
    "            self.backward(Y_hat, Y)\n",
    "            self.update(learning_rate)\n",
    "            print(self.loss(Y_hat, Y))\n",
    "            \n",
    "    \n",
    "        \n",
    "m = Model([3, 2])\n",
    "\n",
    "X = inputs = np.array([\n",
    "    [73, 67, 43], \n",
    "    [91, 88, 64], \n",
    "    [87, 134, 58], \n",
    "    [102, 43, 37], \n",
    "    [69, 96, 70]\n",
    "], dtype='float32').T\n",
    "Y = np.array([\n",
    "    [56, 70], \n",
    "    [81, 101], \n",
    "    [119, 133], \n",
    "    [22, 37], \n",
    "    [103, 119]\n",
    "], dtype='float32').T\n",
    "\n",
    "m.layers[0].W\n",
    "#m.loss(Y, m.forward(X))\n",
    "# pprint({'W': m.layers[0].W, 'b': m.layers[0].b})\n",
    "m.train(X, Y, 5, 1e-5)\n",
    "# Y_hat = m.forward(X)\n",
    "# m.backward(Y_hat, Y)\n",
    "#m.backward()"
   ]
  },
  {
   "cell_type": "code",
   "execution_count": 95,
   "metadata": {},
   "outputs": [
    {
     "data": {
      "text/plain": [
       "array([[0.51058178]])"
      ]
     },
     "execution_count": 95,
     "metadata": {},
     "output_type": "execute_result"
    }
   ],
   "source": [
    "X = np.array([[1], [2]])\n",
    "m.forward(X)"
   ]
  },
  {
   "cell_type": "code",
   "execution_count": 157,
   "metadata": {},
   "outputs": [
    {
     "data": {
      "text/plain": [
       "array(0.65466666)"
      ]
     },
     "execution_count": 157,
     "metadata": {},
     "output_type": "execute_result"
    }
   ],
   "source": [
    "def get_cost_value(Y_hat, Y):\n",
    "    m = Y_hat.shape[1]\n",
    "    cost = Y @ np.log(Y_hat).T + (1 - Y) @ np.log(1 - Y_hat).T\n",
    "    return np.squeeze(-cost / m)\n",
    "\n",
    "get_cost_value(np.array([[0.3, 0.1]]), np.array([[1, 0]]))"
   ]
  },
  {
   "cell_type": "code",
   "execution_count": 38,
   "metadata": {},
   "outputs": [
    {
     "name": "stdout",
     "output_type": "stream",
     "text": [
      "{'W1': array([[ 0.04967142, -0.01382643],\n",
      "       [ 0.06476885,  0.15230299]]),\n",
      " 'W2': array([[0.15792128, 0.07674347]]),\n",
      " 'b1': array([[-0.02341534],\n",
      "       [-0.0234137 ]]),\n",
      " 'b2': array([[-0.04694744]])}\n",
      "{'Y': array([[1]]), 'Y_hat': array([[0.49490088]])}\n",
      "[[-2.02060662]]\n",
      "{'dW1': array([[ 0.        ,  0.        ],\n",
      "       [-0.03876306, -0.07752612]]),\n",
      " 'dW2': array([[ 0.        , -0.17474466]]),\n",
      " 'db1': array([[ 0.        ],\n",
      "       [-0.03876306]]),\n",
      " 'db2': array([[-0.50509912]])}\n"
     ]
    }
   ],
   "source": [
    "def init_layers(nn_architecture, seed = 42):\n",
    "    np.random.seed(seed)\n",
    "    number_of_layers = len(nn_architecture)\n",
    "    params_values = {}\n",
    "\n",
    "    for idx, layer in enumerate(nn_architecture):\n",
    "        layer_idx = idx + 1\n",
    "        layer_input_size = layer[\"input_dim\"]\n",
    "        layer_output_size = layer[\"output_dim\"]\n",
    "        \n",
    "        params_values['W' + str(layer_idx)] = np.random.randn(\n",
    "            layer_output_size, layer_input_size) * 0.1\n",
    "        params_values['b' + str(layer_idx)] = np.random.randn(\n",
    "            layer_output_size, 1) * 0.1\n",
    "        \n",
    "    return params_values\n",
    "\n",
    "def sigmoid(Z):\n",
    "    return 1/(1+np.exp(-Z))\n",
    "\n",
    "def relu(Z):\n",
    "    return np.maximum(0,Z)\n",
    "\n",
    "def sigmoid_backward(dA, Z):\n",
    "    sig = sigmoid(Z)\n",
    "    return dA * sig * (1 - sig)\n",
    "\n",
    "def relu_backward(dA, Z):\n",
    "    dZ = np.array(dA, copy = True)\n",
    "    dZ[Z <= 0] = 0;\n",
    "    return dZ;\n",
    "\n",
    "def single_layer_forward_propagation(A_prev, W_curr, b_curr, activation=\"relu\"):\n",
    "    Z_curr = np.dot(W_curr, A_prev) + b_curr\n",
    "    \n",
    "    if activation is \"relu\":\n",
    "        activation_func = relu\n",
    "    elif activation is \"sigmoid\":\n",
    "        activation_func = sigmoid\n",
    "    else:\n",
    "        raise Exception('Non-supported activation function')\n",
    "        \n",
    "    return activation_func(Z_curr), Z_curr\n",
    "\n",
    "def full_forward_propagation(X, params_values, nn_architecture):\n",
    "    memory = {}\n",
    "    A_curr = X\n",
    "    \n",
    "    for idx, layer in enumerate(nn_architecture):\n",
    "        layer_idx = idx + 1\n",
    "        A_prev = A_curr\n",
    "        \n",
    "        activ_function_curr = layer[\"activation\"]\n",
    "        W_curr = params_values[\"W\" + str(layer_idx)]\n",
    "        b_curr = params_values[\"b\" + str(layer_idx)]\n",
    "        A_curr, Z_curr = single_layer_forward_propagation(A_prev, W_curr, b_curr, activ_function_curr)\n",
    "        \n",
    "        memory[\"A\" + str(idx)] = A_prev\n",
    "        memory[\"Z\" + str(layer_idx)] = Z_curr\n",
    "       \n",
    "    return A_curr, memory\n",
    "\n",
    "def single_layer_backward_propagation(dA_curr, W_curr, b_curr, Z_curr, A_prev, activation=\"relu\"):\n",
    "    m = A_prev.shape[1]\n",
    "    \n",
    "    if activation is \"relu\":\n",
    "        backward_activation_func = relu_backward\n",
    "    elif activation is \"sigmoid\":\n",
    "        backward_activation_func = sigmoid_backward\n",
    "    else:\n",
    "        raise Exception('Non-supported activation function')\n",
    "    \n",
    "    dZ_curr = backward_activation_func(dA_curr, Z_curr)\n",
    "    dW_curr = np.dot(dZ_curr, A_prev.T) / m\n",
    "    db_curr = np.sum(dZ_curr, axis=1, keepdims=True) / m\n",
    "    dA_prev = np.dot(W_curr.T, dZ_curr)\n",
    "\n",
    "    return dA_prev, dW_curr, db_curr\n",
    "\n",
    "def full_backward_propagation(Y_hat, Y, memory, params_values, nn_architecture):\n",
    "    grads_values = {}\n",
    "    m = Y.shape[1]\n",
    "    Y = Y.reshape(Y_hat.shape)\n",
    "   \n",
    "    dA_prev = - (np.divide(Y, Y_hat) - np.divide(1 - Y, 1 - Y_hat));\n",
    "    print(dA_prev)\n",
    "    for layer_idx_prev, layer in reversed(list(enumerate(nn_architecture))):\n",
    "        layer_idx_curr = layer_idx_prev + 1\n",
    "        activ_function_curr = layer[\"activation\"]\n",
    "        \n",
    "        dA_curr = dA_prev\n",
    "        \n",
    "        A_prev = memory[\"A\" + str(layer_idx_prev)]\n",
    "        Z_curr = memory[\"Z\" + str(layer_idx_curr)]\n",
    "        W_curr = params_values[\"W\" + str(layer_idx_curr)]\n",
    "        b_curr = params_values[\"b\" + str(layer_idx_curr)]\n",
    "        \n",
    "        dA_prev, dW_curr, db_curr = single_layer_backward_propagation(\n",
    "            dA_curr, W_curr, b_curr, Z_curr, A_prev, activ_function_curr)\n",
    "        \n",
    "        grads_values[\"dW\" + str(layer_idx_curr)] = dW_curr\n",
    "        grads_values[\"db\" + str(layer_idx_curr)] = db_curr\n",
    "    \n",
    "    return grads_values\n",
    "\n",
    "\n",
    "nn_architecture = [\n",
    "    {\"input_dim\": 2, \"output_dim\": 2, \"activation\": \"relu\"},\n",
    "    {\"input_dim\": 2, \"output_dim\": 1, \"activation\": \"sigmoid\"},\n",
    "]\n",
    "param_values = init_layers(nn_architecture)\n",
    "pprint(param_values)\n",
    "\n",
    "X = np.array([[1], [2]])\n",
    "Y = np.array([[1]])\n",
    "Y_hat, memory = full_forward_propagation(X, param_values, nn_architecture)\n",
    "pprint({'Y_hat': Y_hat, 'Y': Y})\n",
    "pprint(full_backward_propagation(Y_hat, Y, memory, param_values, nn_architecture))\n"
   ]
  },
  {
   "cell_type": "code",
   "execution_count": 37,
   "metadata": {},
   "outputs": [
    {
     "name": "stdout",
     "output_type": "stream",
     "text": [
      "{'Y': array([[1]]), 'Y_hat': array([[0.49490088]])}\n",
      "[[-2.02060662]]\n",
      "[array([[ 0.        ,  0.        ],\n",
      "       [-0.03876306, -0.07752612]]), array([[ 0.        , -0.17474466]])]\n",
      "[array([[ 0.        ],\n",
      "       [-0.03876306]]), array([[-0.50509912]])]\n"
     ]
    }
   ],
   "source": [
    "m = Model([2, 2])\n",
    "X = np.array([[1], [2]])\n",
    "Y_hat = m.forward(X)\n",
    "Y = np.array([[1]])\n",
    "pprint({'Y_hat': Y_hat, 'Y': Y})\n",
    "m.backward(Y_hat, Y)"
   ]
  },
  {
   "cell_type": "code",
   "execution_count": 122,
   "metadata": {},
   "outputs": [
    {
     "data": {
      "text/plain": [
       "array([[0.49490088]])"
      ]
     },
     "execution_count": 122,
     "metadata": {},
     "output_type": "execute_result"
    }
   ],
   "source": [
    "m.forward(X)"
   ]
  },
  {
   "cell_type": "code",
   "execution_count": 36,
   "metadata": {},
   "outputs": [
    {
     "data": {
      "text/plain": [
       "array([[ 0.04967142, -0.01382643]])"
      ]
     },
     "execution_count": 36,
     "metadata": {},
     "output_type": "execute_result"
    }
   ],
   "source": [
    "m.layers[0].W"
   ]
  },
  {
   "cell_type": "code",
   "execution_count": 35,
   "metadata": {},
   "outputs": [
    {
     "data": {
      "text/plain": [
       "array([[0.06476885]])"
      ]
     },
     "execution_count": 35,
     "metadata": {},
     "output_type": "execute_result"
    }
   ],
   "source": [
    "m.layers[0].b"
   ]
  },
  {
   "cell_type": "code",
   "execution_count": null,
   "metadata": {},
   "outputs": [],
   "source": []
  }
 ],
 "metadata": {
  "kernelspec": {
   "display_name": "Python 3",
   "language": "python",
   "name": "python3"
  },
  "language_info": {
   "codemirror_mode": {
    "name": "ipython",
    "version": 3
   },
   "file_extension": ".py",
   "mimetype": "text/x-python",
   "name": "python",
   "nbconvert_exporter": "python",
   "pygments_lexer": "ipython3",
   "version": "3.6.8"
  }
 },
 "nbformat": 4,
 "nbformat_minor": 4
}
